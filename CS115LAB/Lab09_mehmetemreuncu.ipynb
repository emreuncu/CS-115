{
 "cells": [
  {
   "cell_type": "code",
   "execution_count": 37,
   "id": "47ce0b1b",
   "metadata": {},
   "outputs": [],
   "source": [
    "# CS115 Lab 09 Questions"
   ]
  },
  {
   "cell_type": "markdown",
   "id": "8277cf2a",
   "metadata": {},
   "source": [
    "## *Question 01*"
   ]
  },
  {
   "cell_type": "markdown",
   "id": "65673d59",
   "metadata": {},
   "source": [
    "Import numpy"
   ]
  },
  {
   "cell_type": "code",
   "execution_count": 47,
   "id": "1a20a8e3",
   "metadata": {},
   "outputs": [],
   "source": [
    "import numpy as np"
   ]
  },
  {
   "cell_type": "markdown",
   "id": "a3949765",
   "metadata": {},
   "source": [
    "a.\tLoad the data from the file covid_data.txt into a numpy array, covid_data. \n",
    "b.\tLoad the data from the file covid_country.txt into a numpy array, covid_country. "
   ]
  },
  {
   "cell_type": "code",
   "execution_count": 48,
   "id": "85d28202",
   "metadata": {},
   "outputs": [],
   "source": [
    "covid_data = np.loadtxt(\"C:/Users/Emre/PycharmProjects/pythonProject/LAB/covid_data.txt\")\n",
    "covid_country = np.loadtxt(\"C:/Users/Emre/PycharmProjects/pythonProject/LAB/covid_country.txt\", dtype='str', skiprows= 1)"
   ]
  },
  {
   "cell_type": "markdown",
   "id": "1c9237e0",
   "metadata": {},
   "source": [
    "c.\tTranspose and update the covid_data array."
   ]
  },
  {
   "cell_type": "code",
   "execution_count": 49,
   "id": "3ae2dbe9",
   "metadata": {},
   "outputs": [],
   "source": [
    "covid_data = covid_data.transpose()"
   ]
  },
  {
   "cell_type": "markdown",
   "id": "b6c04282",
   "metadata": {},
   "source": [
    "d.\tCalculate and display the maximum tests per 1 million."
   ]
  },
  {
   "cell_type": "code",
   "execution_count": 50,
   "id": "c1b4b8a9",
   "metadata": {},
   "outputs": [
    {
     "name": "stdout",
     "output_type": "stream",
     "text": [
      "995282.0\n"
     ]
    }
   ],
   "source": [
    "print(np.max(covid_data[:,2]))"
   ]
  },
  {
   "cell_type": "markdown",
   "id": "ed0d737a",
   "metadata": {},
   "source": [
    "\"\"\"e.\tDisplay the names of the countries in Asia.\"\"\""
   ]
  },
  {
   "cell_type": "code",
   "execution_count": 51,
   "id": "ad130637",
   "metadata": {},
   "outputs": [
    {
     "name": "stdout",
     "output_type": "stream",
     "text": [
      "Countries in Asia:\n",
      " ['India' 'Iran' 'Saudi_Arabia' 'Pakistan' 'Bangladesh' 'Turkey' 'Iraq'\n",
      " 'Philippines' 'Indonesia' 'Qatar' 'Kazakhstan' 'Oman' 'Israel' 'Kuwait'\n",
      " 'UAE' 'Singapore' 'Bahrain' 'Japan' 'Armenia' 'Kyrgyzstan' 'Afghanistan'\n",
      " 'Azerbaijan' 'Uzbekistan' 'Nepal' 'South_Korea' 'Palestine' 'Malaysia'\n",
      " 'Lebanon' 'Maldives' 'Hong_Kong' 'Thailand' 'Sri_Lanka' 'Jordan' 'Cyprus'\n",
      " 'Georgia' 'Vietnam' 'Taiwan' 'Myanmar' 'Brunei']\n"
     ]
    }
   ],
   "source": [
    "print('Countries in Asia:\\n',covid_country[covid_country[:,1] == 'Asia'][:,0])"
   ]
  },
  {
   "cell_type": "markdown",
   "id": "8c4cfae3",
   "metadata": {},
   "source": [
    "f.\tDisplay the names of the countries with death numbers less than 50"
   ]
  },
  {
   "cell_type": "code",
   "execution_count": 52,
   "id": "1d4a707f",
   "metadata": {},
   "outputs": [
    {
     "name": "stdout",
     "output_type": "stream",
     "text": [
      "Countries with death numbers less than 50:\n",
      " ['India' 'Pakistan' 'Bangladesh' 'Philippines' 'Indonesia' 'Egypt'\n",
      " 'Ukraine' 'UAE' 'Singapore' 'Poland' 'Nigeria' 'Japan' 'Ghana'\n",
      " 'Afghanistan' 'Azerbaijan' 'Morocco' 'Uzbekistan' 'Kenya' 'Venezuela'\n",
      " 'Nepal' 'Costa_Rica' 'Ethiopia' 'Australia' 'Czechia' 'Cameroon'\n",
      " 'Ivory_Coast' 'South_Korea' 'Palestine' 'Madagascar' 'Sudan' 'Senegal'\n",
      " 'Norway' 'Malaysia' 'Gabon' 'Guinea' 'Haiti' 'Zambia' 'Mauritania'\n",
      " 'Paraguay' 'Lebanon' 'Croatia' 'Greece' 'Libya' 'Maldives' 'CAR' 'Malawi'\n",
      " 'Zimbabwe' 'Hong_Kong' 'Thailand' 'Eswatini' 'Sri_Lanka' 'Cuba'\n",
      " 'Cabo_Verde' 'Namibia' 'Mali' 'Slovakia' 'South_Sudan' 'Lithuania'\n",
      " 'Estonia' 'Mozambique' 'Rwanda' 'Suriname' 'Guinea-Bissau' 'Benin'\n",
      " 'Iceland' 'Tunisia' 'New_Zealand' 'Angola' 'Uruguay' 'Latvia' 'Jordan'\n",
      " 'Uganda' 'Cyprus' 'Georgia' 'Niger' 'Togo' 'Jamaica' 'Malta' 'Gambia'\n",
      " 'Botswana' 'Bahamas' 'Vietnam' 'Lesotho' 'Reunion' 'Guyana' 'Taiwan'\n",
      " 'Burundi' 'Myanmar' 'Mauritius' 'Guadeloupe' 'Martinique' 'Aruba'\n",
      " 'Trinidad_Tobago' 'Cayman_Islands' 'Papua_New_Guinea' 'Brunei' 'Barbados'\n",
      " 'Antigua_Barbuda' 'Liechtenstein' 'Belize' 'Curacao' 'Fiji']\n"
     ]
    }
   ],
   "source": [
    "print('Countries with death numbers less than 50:\\n',covid_country[covid_data[:,1] <  50][:,0])"
   ]
  },
  {
   "cell_type": "markdown",
   "id": "bf9c28ce",
   "metadata": {},
   "source": [
    "g.\tCalculate and display the average cases per 1 million for Europe."
   ]
  },
  {
   "cell_type": "code",
   "execution_count": 53,
   "id": "52700475",
   "metadata": {},
   "outputs": [
    {
     "name": "stdout",
     "output_type": "stream",
     "text": [
      "Average cases per 1 million in europe: 4075.3555555555554\n"
     ]
    }
   ],
   "source": [
    "europe = covid_data[covid_country[:,1] == 'Europe']\n",
    "print('Average cases per 1 million in europe:', np.mean(europe[:,0]))"
   ]
  },
  {
   "cell_type": "markdown",
   "id": "66e7be8c",
   "metadata": {},
   "source": [
    "h.\tDisplay the name of the countr(ies) with the minimum total cases per million in Europe(note: there may be more than one country with the same minimum total cases per million in Europe."
   ]
  },
  {
   "cell_type": "code",
   "execution_count": 54,
   "id": "dd32853e",
   "metadata": {},
   "outputs": [
    {
     "name": "stdout",
     "output_type": "stream",
     "text": [
      "Country with minimum cases per 1 million in Europe:  ['Slovakia']\n"
     ]
    }
   ],
   "source": [
    "europe = covid_data[covid_country[:,1] == 'Europe']\n",
    "min_europe = np.min(europe[:,0])\n",
    "min_country = covid_country[ (covid_data[:,0] == min_europe)  & (covid_country[:,1] == 'Europe')][:,0]\n",
    "print('Country with minimum cases per 1 million in Europe: ', min_country)"
   ]
  },
  {
   "cell_type": "markdown",
   "id": "121c6e44",
   "metadata": {},
   "source": [
    "i.\tCreate a new array, test_result, where the first column contains country names, and the second column contains the deaths per 1 million. Hint: your new array should have 2 columns and 172 rows, not 172 columns and 2 rows."
   ]
  },
  {
   "cell_type": "code",
   "execution_count": 56,
   "id": "50b6138c",
   "metadata": {},
   "outputs": [],
   "source": [
    "test_result = (np.array([covid_country[:,0], covid_data[:,1]])).transpose()\n",
    "np.savetxt('test_result.txt',test_result,\"%s\")"
   ]
  },
  {
   "cell_type": "markdown",
   "id": "889ab60f",
   "metadata": {},
   "source": [
    "j.\tOutput the data in test_result to a file, test_result.txt."
   ]
  },
  {
   "cell_type": "code",
   "execution_count": null,
   "id": "f5c7a475",
   "metadata": {},
   "outputs": [],
   "source": []
  },
  {
   "cell_type": "code",
   "execution_count": null,
   "id": "cf4783b7",
   "metadata": {},
   "outputs": [],
   "source": []
  },
  {
   "cell_type": "code",
   "execution_count": null,
   "id": "9ab96691",
   "metadata": {},
   "outputs": [],
   "source": []
  },
  {
   "cell_type": "code",
   "execution_count": null,
   "id": "1adb44b5",
   "metadata": {},
   "outputs": [],
   "source": []
  }
 ],
 "metadata": {
  "kernelspec": {
   "display_name": "Python 3",
   "language": "python",
   "name": "python3"
  },
  "language_info": {
   "codemirror_mode": {
    "name": "ipython",
    "version": 3
   },
   "file_extension": ".py",
   "mimetype": "text/x-python",
   "name": "python",
   "nbconvert_exporter": "python",
   "pygments_lexer": "ipython3",
   "version": "3.8.8"
  }
 },
 "nbformat": 4,
 "nbformat_minor": 5
}
